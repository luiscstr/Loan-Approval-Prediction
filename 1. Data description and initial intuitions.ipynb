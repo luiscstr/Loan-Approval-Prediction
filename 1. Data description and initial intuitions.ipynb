{
 "cells": [
  {
   "cell_type": "markdown",
   "id": "96205103",
   "metadata": {},
   "source": [
    "## Variable review and initial intuitions\n",
    "\n",
    "The provided dataset contains 13 variables. There are 12 dependent/explanatory variables and the response/target variable (Loan Status), which indicates whether the loan has been approved or not.  Therefore we are in front of a binary classification problem.\n",
    "\n",
    "Dependent variables:\n",
    "\n",
    "- Gender: Male/Female. \n",
    "- Married: Applicant married (Y/N)\n",
    "- Education: Applicant Education (Graduate/ Under Graduate)\n",
    "- Self Employed: Self employed (Y/N)\n",
    "- Dependent: Number of dependents\n",
    "- Applicant Income:Applicant income\n",
    "- CoApplicant Income:Coapplicant income\n",
    "- Loan Amount: Loan amount in thousands\n",
    "- Loan Term: Term of loan in months\n",
    "- Credit History: credit history meets guidelines\n",
    "- Property Area: Urban/ Semi Urban/ Rural\n",
    "\n",
    "Which of this variables can be indicative that the a borrower is less likely to default? We can establish several hypothesis that we will have the opportunity to test later when we conduct the variable analysis:\n",
    "\n",
    "- We can presume that higher incomes (applicant income+coapplicant income) to have bigger chances of approval. However, we need to keep in consideration the loan amount as well. Having a high income but also a big loan amount may be riskier than having a lower income with a also lower loan amount. Therefore seems more reasonable to assume that the lower loan to income ratio of the applicant, the a bigger chance to receive the approval.\n",
    "\n",
    "- In addition to the higher income that comes with a coapplication, having a coapplicant also means that in case that one of the applicants losses his or her job, the ability to support the loan is less affected. Therefore we can expect that applications with coapplicant to have a better chance of approval.\n",
    "\n",
    "- Marital status shouldn't have any influence by itself. However, most likely married applicants will have a bigger percentage of coapplicants an in that sense the assumption made for applications with coapplicants above can be reflected here.\n",
    "\n",
    "- To have a Graduate is usually related to have a higher income salary and therefore all applicants with graduate should have a higher ratio of approval.\n",
    "\n",
    "- Self employed normally have a more variable income, and lenders preference is to lend to borrowers who have a steady source of income. We can anticipate to see that self employed applicants have less chance of receiving an approval.\n",
    "\n",
    "- Number of dependents should no have an impact. Whatsmore, there are mortgage discrimination rules that prevent to use certain aspects to deny or set the terms of a credit. However, number of dependents might be correlated to a higher income to debt ratio. Also higher number of dependents can be related to a bigger house, which means a bigger house price, which means a bigger loan amount.\n",
    "\n",
    "- Longer loan terms usually pose more risk to the lender just because the risk exposure time to default is longer. At the same time, shorter loan terms require higher installments. If we divide the total loan amount by the loan term, we can get an approximated idea of monthly installment and see which proportion of the income represents. We don't know the country where the company operates but in the US, lenders prefer that household expense payments (mostly rent or mortgage payments) don't exceed 28% of the monthly or annual income. Therefore, we expect to see that applicants with lower percentage of loan payment (loan amount divided by loan term) to income to have a higher ratio of approval.\n",
    "\n",
    "- Credit History variable description says \"credit history meets guidelines\". It is not totally clear if this variable is a scoring such a FICO or parameter which is determined using different criterias. In any case, since somehow it's related to the \"credibility\" of the lender to return the loan, we can expect this variable to have a considerable effect in the approval decission.\n",
    "\n",
    "After having quickly examined the variables, it's worth mentioning that there is important information missing which is usually used to determine the credit risk exposure. For example, there is no value of the property information to estimate the loan-to-value ratio, which is an crucial parameter. Neither is information about the total debt of the applicant(s) (debt comming from other sources, for example a car loan, a student loan...) to determine the Payments-to-Income ratio. Information about the downpayment amount is also missing... So our first action should be going back to the credit or risk department of the lender company and request this additional information. But since this is just an exercise and not the real life we shall proceed to the analysis with the information we have."
   ]
  },
  {
   "cell_type": "code",
   "execution_count": null,
   "id": "3a857d70",
   "metadata": {},
   "outputs": [],
   "source": []
  }
 ],
 "metadata": {
  "kernelspec": {
   "display_name": "Python 3",
   "language": "python",
   "name": "python3"
  },
  "language_info": {
   "codemirror_mode": {
    "name": "ipython",
    "version": 3
   },
   "file_extension": ".py",
   "mimetype": "text/x-python",
   "name": "python",
   "nbconvert_exporter": "python",
   "pygments_lexer": "ipython3",
   "version": "3.6.10"
  }
 },
 "nbformat": 4,
 "nbformat_minor": 5
}
