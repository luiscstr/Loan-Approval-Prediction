{
 "cells": [
  {
   "cell_type": "markdown",
   "id": "8136aaf9",
   "metadata": {},
   "source": [
    "## 5. Conclusions\n",
    "\n",
    "- Out of the 12 variables, Credit Score is the one that impacts more the decission to approve or reject a loan. Only 10% with no Credit History (or negative Credit History) were are approved. In fact, some of the features selection methods used selected Credit History as a single feature and the accuracy obtained is equiparable to the accuracy of models where more variables were used.\n",
    "\n",
    "- There is important information missing in the dataset usually used to determine the credit risk exposure. For example, there is no value of the property information to estimate the loan-to-value ratio, which is an crucial parameter. There is no information about the total debt of the applicant(s) (debt comming from other sources, for example a car loan, a student loan...) to determine the Payments-to-Income ratio. Information about the downpayment amount is also missing... Our first action in a real scenario shoul be to request the credit risk department (o pertinent department) this additional information. \n",
    "\n",
    "- Some variables such the EMI were calculated by combining some of the original variables. However, no drastic improvement in the accuracy was obtained.\n",
    "\n",
    "- Around 8% of Credit History values are missing. 85% of the applicants have a positive Credit History, so if we assume that the values are missing at random, by imputing the mode we would get 85% right. Other methods of imputation were explored but since there is no relation between Credit History and the other varables it was not possible to find an alternative to imputing the mode.\n",
    "\n",
    "\n",
    "Some suggestions for Improvement \n",
    "\n",
    "- As mentioned, request the department of the company to provide important information that is missing in the dataset.\n",
    "- Try neural network.\n",
    "- Try ensemble models.\n",
    "- Create additional features."
   ]
  },
  {
   "cell_type": "code",
   "execution_count": null,
   "id": "1008b00b",
   "metadata": {},
   "outputs": [],
   "source": []
  }
 ],
 "metadata": {
  "kernelspec": {
   "display_name": "Python 3",
   "language": "python",
   "name": "python3"
  },
  "language_info": {
   "codemirror_mode": {
    "name": "ipython",
    "version": 3
   },
   "file_extension": ".py",
   "mimetype": "text/x-python",
   "name": "python",
   "nbconvert_exporter": "python",
   "pygments_lexer": "ipython3",
   "version": "3.6.10"
  }
 },
 "nbformat": 4,
 "nbformat_minor": 5
}
