{
 "cells": [
  {
   "cell_type": "code",
   "execution_count": 56,
   "id": "b9e3cb66",
   "metadata": {},
   "outputs": [],
   "source": [
    "# Importing libraries\n",
    "\n",
    "import pandas as pd\n",
    "import numpy as np\n",
    "import seaborn as sns\n",
    "#import category_encoders as ce\n",
    "import matplotlib.pyplot as plt\n",
    "from scipy import stats\n",
    "from scipy.stats import iqr,skew \n",
    "from sklearn.preprocessing import StandardScaler,LabelEncoder,MinMaxScaler,PowerTransformer\n",
    "from sklearn.pipeline import Pipeline,make_pipeline\n",
    "from sklearn.experimental import enable_iterative_imputer \n",
    "from sklearn.impute import IterativeImputer\n",
    "\n",
    "import pickle\n",
    "\n",
    "import time\n",
    "import warnings\n",
    "warnings.simplefilter('ignore')\n",
    "\n",
    "pd.set_option('display.max_columns',15)\n",
    "pd.set_option('display.float_format', lambda x: '{:.5f}'.format(x)) #Limiting floats output to 5 decimal points"
   ]
  },
  {
   "cell_type": "code",
   "execution_count": 57,
   "id": "b173f9eb",
   "metadata": {},
   "outputs": [],
   "source": [
    "#Importing Data sets\n",
    "file_path_train= 'C:/Users/lcast/Desktop/DS/GitHub/Loan-Approval-Prediction/data/raw/train_Loan.csv'\n",
    "file_path_test='C:/Users/lcast/Desktop/DS/GitHub/Loan-Approval-Prediction/data/raw/test_Loan.csv'\n",
    "loan_train=pd.read_csv(file_path_train)\n",
    "loan_test=pd.read_csv(file_path_test)"
   ]
  },
  {
   "cell_type": "markdown",
   "id": "5bf11dcf",
   "metadata": {},
   "source": [
    "### 3. DATA TREATMENT\n",
    "#### 3.1 MISSING VALUES (Imputation)"
   ]
  },
  {
   "cell_type": "code",
   "execution_count": 58,
   "id": "c71ac954",
   "metadata": {},
   "outputs": [
    {
     "name": "stdout",
     "output_type": "stream",
     "text": [
      "Loan_ID               0\n",
      "Gender               13\n",
      "Married               3\n",
      "Dependents           15\n",
      "Education             0\n",
      "Self_Employed        32\n",
      "ApplicantIncome       0\n",
      "CoapplicantIncome     0\n",
      "LoanAmount           22\n",
      "Loan_Amount_Term     14\n",
      "Credit_History       50\n",
      "Property_Area         0\n",
      "Loan_Status           0\n",
      "dtype: int64\n"
     ]
    },
    {
     "data": {
      "text/plain": [
       "Text(0.5, 1.0, 'Percent missing data by feature')"
      ]
     },
     "execution_count": 58,
     "metadata": {},
     "output_type": "execute_result"
    },
    {
     "data": {
      "image/png": "[encoded data removed]",
      "text/plain": [
       "<Figure size 720x504 with 1 Axes>"
      ]
     },
     "metadata": {
      "needs_background": "light"
     },
     "output_type": "display_data"
    }
   ],
   "source": [
    "print(loan_train.isnull().sum())\n",
    "null_percentage = (loan_train.isnull().sum() / len(loan_train)) * 100\n",
    "\n",
    "plt.subplots(figsize=(10, 7))\n",
    "plt.xticks(rotation='90')\n",
    "sns.barplot(x=null_percentage.index, y=null_percentage)\n",
    "plt.xlabel('Features', fontsize=15)\n",
    "plt.ylabel('%of missing values', fontsize=15)\n",
    "plt.title('Percent missing data by feature', fontsize=15)"
   ]
  },
  {
   "cell_type": "markdown",
   "id": "7b89ed90",
   "metadata": {},
   "source": [
    "We see that there are several features with missing values. To deal with the missing values there are different strategies. One is just to get rid of all entries with missing values. But if we do that, we will eliminate a total 134 entries, which represents almost a 22% of the dataset. A second strategy is to treat the missing values as an additional category. And a third option is to we impute the missing values. We will use this third option starting by imputing single values. Perhaps later we will also consider multiple imputation methods."
   ]
  },
  {
   "cell_type": "code",
   "execution_count": 59,
   "id": "7f8a061c",
   "metadata": {},
   "outputs": [
    {
     "data": {
      "text/plain": [
       "13"
      ]
     },
     "execution_count": 59,
     "metadata": {},
     "output_type": "execute_result"
    }
   ],
   "source": [
    "#Gender imputation\n",
    "loan_train.Gender.isnull().sum()"
   ]
  },
  {
   "cell_type": "markdown",
   "id": "742707ac",
   "metadata": {},
   "source": [
    "There are a total of 13 values null for gender. We have seen that 80% of the applicants in the dataset are male, so we could just impute the mode for the missing value. But since the dataset is not that large, it may be worth to take a closer look to the data and try to refine the imputation by finding any case were it makes sense to impute female instead. From the EDA and the chi independent test we have identified Married, Dependents and Property_Area as correlated to gender. Let's first check the distribution of gender by marital status:"
   ]
  },
  {
   "cell_type": "code",
   "execution_count": 60,
   "id": "e4d8e99c",
   "metadata": {},
   "outputs": [
    {
     "data": {
      "text/plain": [
       "Gender  Married\n",
       "Female  No          80\n",
       "        Yes         31\n",
       "Male    No         130\n",
       "        Yes        357\n",
       "Name: Gender, dtype: int64"
      ]
     },
     "execution_count": 60,
     "metadata": {},
     "output_type": "execute_result"
    }
   ],
   "source": [
    "loan_train.groupby(['Gender','Married']).Gender.count()"
   ]
  },
  {
   "cell_type": "markdown",
   "id": "6ff8c698",
   "metadata": {},
   "source": [
    "There are 111 applicants female vs 487 male.  Out of the total of married (388), 31 are female and 357 are male,meaning that only 8% of the married applicants  are female. So for all applicants with gender missing and married, it makes sense to impute male. \n",
    "\n",
    "For those applicants not married, let's now check  the variable 'Dependents' to see if we find any hint:\n"
   ]
  },
  {
   "cell_type": "code",
   "execution_count": 61,
   "id": "0ac84fff",
   "metadata": {},
   "outputs": [
    {
     "data": {
      "text/plain": [
       "Gender  Married  Dependents\n",
       "Female  No       0              60\n",
       "                 1              13\n",
       "                 2               2\n",
       "                 3+              3\n",
       "Male    No       0             109\n",
       "                 1              10\n",
       "                 2               6\n",
       "                 3+              3\n",
       "Name: Gender, dtype: int64"
      ]
     },
     "execution_count": 61,
     "metadata": {},
     "output_type": "execute_result"
    }
   ],
   "source": [
    "loan_train[loan_train['Married']=='No'].groupby(['Gender','Married','Dependents']).Gender.count()"
   ]
  },
  {
   "cell_type": "markdown",
   "id": "f5b76df7",
   "metadata": {},
   "source": [
    "Distribution by dependents is similar for both genders, with a clear predominance of 0 dependents for both genders. Therefore, we canot use the dependents to refine the gender imputation.\n",
    "By using Married and Dependents we have not been able to find any specific case were it makes sense to impute female.  we will just impute the mode (male)  for the gender missing values:"
   ]
  },
  {
   "cell_type": "code",
   "execution_count": 62,
   "id": "00b13c0e",
   "metadata": {},
   "outputs": [],
   "source": [
    "Gender_mode=loan_train['Gender'].mode()[0]\n",
    "loan_train['Gender']=loan_train['Gender'].fillna(Gender_mode)"
   ]
  },
  {
   "cell_type": "code",
   "execution_count": 63,
   "id": "19909829",
   "metadata": {},
   "outputs": [
    {
     "data": {
      "text/plain": [
       "3"
      ]
     },
     "execution_count": 63,
     "metadata": {},
     "output_type": "execute_result"
    }
   ],
   "source": [
    "#Married\n",
    "loan_train.Married.isnull().sum()"
   ]
  },
  {
   "cell_type": "markdown",
   "id": "4179a045",
   "metadata": {},
   "source": [
    "There are just 3 missing values. In the dataset, 213 (35%) are not married and 398 (65%) are married.The most related variables to married are gender and dependents. But as we have just seen before, we can't use them to refine the estimate, so we will just impute the mode (married) to all three missing values."
   ]
  },
  {
   "cell_type": "code",
   "execution_count": 64,
   "id": "6852f354",
   "metadata": {},
   "outputs": [],
   "source": [
    "Married_mode=loan_train['Married'].mode()[0]\n",
    "loan_train['Married']=loan_train['Married'].fillna(Married_mode)"
   ]
  },
  {
   "cell_type": "code",
   "execution_count": 65,
   "id": "78e57be1",
   "metadata": {},
   "outputs": [
    {
     "data": {
      "text/plain": [
       "15"
      ]
     },
     "execution_count": 65,
     "metadata": {},
     "output_type": "execute_result"
    }
   ],
   "source": [
    "#Dependents\n",
    "loan_train.Dependents.isnull().sum()"
   ]
  },
  {
   "cell_type": "markdown",
   "id": "4416eb52",
   "metadata": {},
   "source": [
    "Dependents variable has 15 missing values.Most related variables are Married and Gender. If Married is No, we will impute 0 since represents alsmot 82% of the cases. When Married is yes, the distribution by gender does not allow to select 1,2 or +3 dependents over 0. So we will  impute the mode (0) as well."
   ]
  },
  {
   "cell_type": "code",
   "execution_count": 66,
   "id": "52c2dd00",
   "metadata": {},
   "outputs": [
    {
     "data": {
      "text/plain": [
       "Gender  Married  Dependents\n",
       "Female  Yes      0              20\n",
       "                 1               6\n",
       "                 2               5\n",
       "Male    Yes      0             154\n",
       "                 1              73\n",
       "                 2              88\n",
       "                 3+             44\n",
       "Name: Gender, dtype: int64"
      ]
     },
     "execution_count": 66,
     "metadata": {},
     "output_type": "execute_result"
    }
   ],
   "source": [
    "loan_train[loan_train['Married']=='Yes'].groupby(['Gender','Married','Dependents']).Gender.count()"
   ]
  },
  {
   "cell_type": "code",
   "execution_count": 67,
   "id": "a0206d5d",
   "metadata": {},
   "outputs": [],
   "source": [
    "Dependents_mode=loan_train['Dependents'].mode()[0]\n",
    "loan_train['Dependents']=loan_train['Dependents'].fillna(Dependents_mode)"
   ]
  },
  {
   "cell_type": "markdown",
   "id": "ca384760",
   "metadata": {},
   "source": [
    "For Self_Employed and Loan_Amount_term there are 32 missing values and 14, respectively. Since we didn't find any associated variable, we will impute the mode for both:"
   ]
  },
  {
   "cell_type": "code",
   "execution_count": 68,
   "id": "493e6e94",
   "metadata": {},
   "outputs": [
    {
     "data": {
      "text/plain": [
       "Self_Employed       32\n",
       "Loan_Amount_Term    14\n",
       "dtype: int64"
      ]
     },
     "execution_count": 68,
     "metadata": {},
     "output_type": "execute_result"
    }
   ],
   "source": [
    "loan_train[['Self_Employed','Loan_Amount_Term']].isnull().sum()"
   ]
  },
  {
   "cell_type": "code",
   "execution_count": 69,
   "id": "a1566dbe",
   "metadata": {},
   "outputs": [
    {
     "data": {
      "text/plain": [
       "array([360., 120., 240.,  nan, 180.,  60., 300., 480.,  36.,  84.,  12.])"
      ]
     },
     "execution_count": 69,
     "metadata": {},
     "output_type": "execute_result"
    }
   ],
   "source": [
    "Self_employed_mode=loan_train['Self_Employed'].mode()[0]\n",
    "loan_train['Self_Employed']=loan_train['Self_Employed'].fillna(Self_employed_mode)\n",
    "loan_train['Loan_Amount_Term'].unique()"
   ]
  },
  {
   "cell_type": "markdown",
   "id": "b5d6364a",
   "metadata": {},
   "source": [
    "In the case of Loan term there are no missing values. However, we see that there are two mortgages with 36 months term and one with 12 months term.  Mortgages of 2 and 3 years are rare so we can suspect that actually is those values ara missing 0 by mistake and real values are 360 and 120 (30 and 10 years).In a real scenario, we will ask to the provider of the information to verify the values. However, since here we don't have a way to do the verification we will leave the values as they are."
   ]
  },
  {
   "cell_type": "code",
   "execution_count": 70,
   "id": "782c0770",
   "metadata": {},
   "outputs": [
    {
     "data": {
      "text/html": [
       "<div>\n",
       "<style scoped>\n",
       "    .dataframe tbody tr th:only-of-type {\n",
       "        vertical-align: middle;\n",
       "    }\n",
       "\n",
       "    .dataframe tbody tr th {\n",
       "        vertical-align: top;\n",
       "    }\n",
       "\n",
       "    .dataframe thead th {\n",
       "        text-align: right;\n",
       "    }\n",
       "</style>\n",
       "<table border=\"1\" class=\"dataframe\">\n",
       "  <thead>\n",
       "    <tr style=\"text-align: right;\">\n",
       "      <th></th>\n",
       "      <th>Loan_ID</th>\n",
       "      <th>Gender</th>\n",
       "      <th>Married</th>\n",
       "      <th>Dependents</th>\n",
       "      <th>Education</th>\n",
       "      <th>Self_Employed</th>\n",
       "      <th>ApplicantIncome</th>\n",
       "      <th>CoapplicantIncome</th>\n",
       "      <th>LoanAmount</th>\n",
       "      <th>Loan_Amount_Term</th>\n",
       "      <th>Credit_History</th>\n",
       "      <th>Property_Area</th>\n",
       "      <th>Loan_Status</th>\n",
       "    </tr>\n",
       "  </thead>\n",
       "  <tbody>\n",
       "    <tr>\n",
       "      <th>262</th>\n",
       "      <td>LP001870</td>\n",
       "      <td>Female</td>\n",
       "      <td>No</td>\n",
       "      <td>1</td>\n",
       "      <td>Graduate</td>\n",
       "      <td>No</td>\n",
       "      <td>3481</td>\n",
       "      <td>0.00000</td>\n",
       "      <td>155.00000</td>\n",
       "      <td>36.00000</td>\n",
       "      <td>1.00000</td>\n",
       "      <td>Semiurban</td>\n",
       "      <td>N</td>\n",
       "    </tr>\n",
       "    <tr>\n",
       "      <th>497</th>\n",
       "      <td>LP002588</td>\n",
       "      <td>Male</td>\n",
       "      <td>Yes</td>\n",
       "      <td>0</td>\n",
       "      <td>Graduate</td>\n",
       "      <td>No</td>\n",
       "      <td>4625</td>\n",
       "      <td>2857.00000</td>\n",
       "      <td>111.00000</td>\n",
       "      <td>12.00000</td>\n",
       "      <td>nan</td>\n",
       "      <td>Urban</td>\n",
       "      <td>Y</td>\n",
       "    </tr>\n",
       "    <tr>\n",
       "      <th>546</th>\n",
       "      <td>LP002768</td>\n",
       "      <td>Male</td>\n",
       "      <td>No</td>\n",
       "      <td>0</td>\n",
       "      <td>Not Graduate</td>\n",
       "      <td>No</td>\n",
       "      <td>3358</td>\n",
       "      <td>0.00000</td>\n",
       "      <td>80.00000</td>\n",
       "      <td>36.00000</td>\n",
       "      <td>1.00000</td>\n",
       "      <td>Semiurban</td>\n",
       "      <td>N</td>\n",
       "    </tr>\n",
       "  </tbody>\n",
       "</table>\n",
       "</div>"
      ],
      "text/plain": [
       "      Loan_ID  Gender Married Dependents     Education Self_Employed  \\\n",
       "262  LP001870  Female      No          1      Graduate            No   \n",
       "497  LP002588    Male     Yes          0      Graduate            No   \n",
       "546  LP002768    Male      No          0  Not Graduate            No   \n",
       "\n",
       "     ApplicantIncome  CoapplicantIncome  LoanAmount  Loan_Amount_Term  \\\n",
       "262             3481            0.00000   155.00000          36.00000   \n",
       "497             4625         2857.00000   111.00000          12.00000   \n",
       "546             3358            0.00000    80.00000          36.00000   \n",
       "\n",
       "     Credit_History Property_Area Loan_Status  \n",
       "262         1.00000     Semiurban           N  \n",
       "497             nan         Urban           Y  \n",
       "546         1.00000     Semiurban           N  "
      ]
     },
     "execution_count": 70,
     "metadata": {},
     "output_type": "execute_result"
    }
   ],
   "source": [
    "loan_train.loc[(loan_train['Loan_Amount_Term']== 12) | (loan_train['Loan_Amount_Term']== 36)]"
   ]
  },
  {
   "cell_type": "code",
   "execution_count": 71,
   "id": "76257119",
   "metadata": {},
   "outputs": [],
   "source": [
    "Loan_Amount_Term_mode=loan_train['Loan_Amount_Term'].mode()[0]\n",
    "loan_train['Loan_Amount_Term']=loan_train['Loan_Amount_Term'].fillna(Loan_Amount_Term_mode)"
   ]
  },
  {
   "cell_type": "code",
   "execution_count": 72,
   "id": "72f27848",
   "metadata": {},
   "outputs": [
    {
     "data": {
      "text/plain": [
       "50"
      ]
     },
     "execution_count": 72,
     "metadata": {},
     "output_type": "execute_result"
    }
   ],
   "source": [
    "#Credit History\n",
    "loan_train['Credit_History'].isnull().sum()"
   ]
  },
  {
   "cell_type": "markdown",
   "id": "db8449d8",
   "metadata": {},
   "source": [
    "50 missing credit history values.  85% od the applicants in the dataset have credit history, so assuming that the values with missing Credit History are random, if we impute the mode (credit History \"yes\") we have 85% chances to impute the right value. "
   ]
  },
  {
   "cell_type": "code",
   "execution_count": 73,
   "id": "5b04f673",
   "metadata": {},
   "outputs": [],
   "source": [
    "Credit_History_mode=loan_train['Credit_History'].mode()[0]\n",
    "loan_train['Credit_History']=loan_train['Credit_History'].fillna(Credit_History_mode)\n"
   ]
  },
  {
   "cell_type": "markdown",
   "id": "456179dd",
   "metadata": {},
   "source": [
    "**Note**: since Credit History is strongly correlated to the loan approval decission, alternative imputation methods were used. In particular, iterative imputer with different estimators was tried. No improvement was obtained so t has been excluded of this notebook. The code it's is included in the... "
   ]
  },
  {
   "cell_type": "markdown",
   "id": "34dcf0d7",
   "metadata": {},
   "source": [
    "Lastly, for LoanAmount there are 22 missing values. Given that there are many extreme values in the dataset, we will replace the missing values with the median (146) rather than with the mean (128)"
   ]
  },
  {
   "cell_type": "code",
   "execution_count": 74,
   "id": "34ef2251",
   "metadata": {},
   "outputs": [],
   "source": [
    "LoanAmount_median=loan_train['LoanAmount'].median()\n",
    "loan_train['LoanAmount']=loan_train['LoanAmount'].fillna(LoanAmount_median)"
   ]
  },
  {
   "cell_type": "code",
   "execution_count": 75,
   "id": "42f99e1e",
   "metadata": {},
   "outputs": [
    {
     "data": {
      "text/plain": [
       "Loan_ID              0\n",
       "Gender               0\n",
       "Married              0\n",
       "Dependents           0\n",
       "Education            0\n",
       "Self_Employed        0\n",
       "ApplicantIncome      0\n",
       "CoapplicantIncome    0\n",
       "LoanAmount           0\n",
       "Loan_Amount_Term     0\n",
       "Credit_History       0\n",
       "Property_Area        0\n",
       "Loan_Status          0\n",
       "dtype: int64"
      ]
     },
     "execution_count": 75,
     "metadata": {},
     "output_type": "execute_result"
    }
   ],
   "source": [
    "#Confirm there are no null values reamining\n",
    "loan_train.isnull().sum()"
   ]
  },
  {
   "cell_type": "markdown",
   "id": "c2475b91",
   "metadata": {},
   "source": [
    "### 3.2 Correct skewness\n",
    "\n",
    "As we have seen before, all numerical variables (Applicant Income, CoApplicant Income and Loan Amount) have a positive skew. This can imply that some of the algorithms we will use later might be trained in a much larger number of moderate values than extreme values, resulting in a  model less likely to predict correctly the most extreme values. To correct this behaviour we will apply a log tranformation. \n",
    "\n",
    "Although we will work later in the feature engineering, it makes sense since the beginning to create a unique variable that combine both applicant and coapplicant incomes. To this combined variable we apply the log tranformation."
   ]
  },
  {
   "cell_type": "code",
   "execution_count": 76,
   "id": "35917b57",
   "metadata": {},
   "outputs": [],
   "source": [
    "#Creating a Total income variable and applying a log transformation\n",
    "loan_train['Total_Income']=loan_train['ApplicantIncome']+loan_train['CoapplicantIncome']\n",
    "loan_train['Total_Income_log']=np.log(loan_train['Total_Income'])\n",
    "loan_train['LoanAmount_log']=np.log(loan_train['LoanAmount'])"
   ]
  },
  {
   "cell_type": "code",
   "execution_count": 77,
   "id": "1785fa83",
   "metadata": {},
   "outputs": [
    {
     "data": {
      "image/png": "[encoded data removed]",
      "text/plain": [
       "<Figure size 432x288 with 1 Axes>"
      ]
     },
     "metadata": {
      "needs_background": "light"
     },
     "output_type": "display_data"
    }
   ],
   "source": [
    "sns.distplot(loan_train['Total_Income_log'])\n",
    "plt.show()"
   ]
  },
  {
   "cell_type": "code",
   "execution_count": 78,
   "id": "0f372c33",
   "metadata": {},
   "outputs": [
    {
     "data": {
      "image/png": "[encoded data removed]",
      "text/plain": [
       "<Figure size 432x288 with 1 Axes>"
      ]
     },
     "metadata": {
      "needs_background": "light"
     },
     "output_type": "display_data"
    }
   ],
   "source": [
    "sns.distplot(loan_train['LoanAmount_log'])\n",
    "plt.show()"
   ]
  },
  {
   "cell_type": "markdown",
   "id": "eb2da8d3",
   "metadata": {},
   "source": [
    "### 3.3 Categorical into indicator variables (dummy variables)\n",
    "The last step is to convert the categorical variables into dummy/indicator variables."
   ]
  },
  {
   "cell_type": "code",
   "execution_count": 79,
   "id": "420a5d13",
   "metadata": {},
   "outputs": [],
   "source": [
    "#Saving the ID of the records\n",
    "loan_train_ID=loan_train.Loan_ID\n",
    "loan_train.drop(['Loan_ID'],axis=1,inplace=True)\n",
    "loan_train =pd.get_dummies(loan_train,drop_first=True)"
   ]
  },
  {
   "cell_type": "markdown",
   "id": "451ca633",
   "metadata": {},
   "source": [
    "### Preprocessing the test set"
   ]
  },
  {
   "cell_type": "markdown",
   "id": "0c6793d0",
   "metadata": {},
   "source": [
    "We repeat the same steps for the test data. Notice that to impute the missing values, the mode of the train set is used"
   ]
  },
  {
   "cell_type": "code",
   "execution_count": 83,
   "id": "fc33df8e",
   "metadata": {},
   "outputs": [],
   "source": [
    "loan_test['Gender']=loan_test['Gender'].fillna(Gender_mode)\n",
    "loan_test['Married']=loan_test['Married'].fillna(Married_mode)\n",
    "loan_test['Dependents']=loan_test['Dependents'].fillna(Dependents_mode)\n",
    "loan_test['Self_Employed']=loan_test['Self_Employed'].fillna(Self_employed_mode)\n",
    "loan_test['Loan_Amount_Term']=loan_test['Loan_Amount_Term'].fillna(Loan_Amount_Term_mode)\n",
    "loan_test['Credit_History']=loan_test['Credit_History'].fillna(Credit_History_mode)\n",
    "loan_test['LoanAmount']=loan_test['LoanAmount'].fillna(LoanAmount_median)\n"
   ]
  },
  {
   "cell_type": "code",
   "execution_count": 84,
   "id": "1c7303fc",
   "metadata": {},
   "outputs": [],
   "source": [
    "loan_test['Total_Income']=loan_test['ApplicantIncome']+loan_test['CoapplicantIncome']\n",
    "loan_test['Total_Income_log']=np.log(loan_test['Total_Income'])\n",
    "loan_test['LoanAmount_log']=np.log(loan_test['LoanAmount'])"
   ]
  },
  {
   "cell_type": "code",
   "execution_count": 85,
   "id": "8863d947",
   "metadata": {},
   "outputs": [],
   "source": [
    "loan_test_ID=loan_test.Loan_ID\n",
    "loan_test.drop(['Loan_ID'],axis=1,inplace=True)\n",
    "loan_test =pd.get_dummies(loan_test,drop_first=True)"
   ]
  },
  {
   "cell_type": "code",
   "execution_count": 88,
   "id": "790b87ad",
   "metadata": {},
   "outputs": [],
   "source": [
    "#Saving the processed files\n",
    "file_path= 'C:/Users/lcast/Desktop/DS/GitHub/Loan-Approval-Prediction/data/processed/'\n",
    "\n",
    "loan_train.to_pickle(file_path+ 'loan_train_prepro.pkl')\n",
    "loan_test.to_pickle(file_path+ 'loan_test_prepro.pkl')\n",
    "loan_test_ID.to_pickle(file_path+ 'loan_test_ID.pkl')"
   ]
  },
  {
   "cell_type": "code",
   "execution_count": 87,
   "id": "52f79992",
   "metadata": {},
   "outputs": [
    {
     "data": {
      "text/plain": [
       "0      LP001015\n",
       "1      LP001022\n",
       "2      LP001031\n",
       "3      LP001035\n",
       "4      LP001051\n",
       "         ...   \n",
       "362    LP002971\n",
       "363    LP002975\n",
       "364    LP002980\n",
       "365    LP002986\n",
       "366    LP002989\n",
       "Name: Loan_ID, Length: 367, dtype: object"
      ]
     },
     "execution_count": 87,
     "metadata": {},
     "output_type": "execute_result"
    }
   ],
   "source": [
    "loan_test_ID"
   ]
  },
  {
   "cell_type": "code",
   "execution_count": null,
   "id": "d752ec1c",
   "metadata": {},
   "outputs": [],
   "source": []
  }
 ],
 "metadata": {
  "kernelspec": {
   "display_name": "Python 3",
   "language": "python",
   "name": "python3"
  },
  "language_info": {
   "codemirror_mode": {
    "name": "ipython",
    "version": 3
   },
   "file_extension": ".py",
   "mimetype": "text/x-python",
   "name": "python",
   "nbconvert_exporter": "python",
   "pygments_lexer": "ipython3",
   "version": "3.6.10"
  }
 },
 "nbformat": 4,
 "nbformat_minor": 5
}
